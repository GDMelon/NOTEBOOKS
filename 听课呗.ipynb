{
 "cells": [
  {
   "cell_type": "code",
   "execution_count": 4,
   "metadata": {},
   "outputs": [
    {
     "name": "stdout",
     "output_type": "stream",
     "text": [
      "冰雪女王4：魔镜世界 08月02日 https://img1.doubanio.com/view/photo/s_ratio_poster/public/p2562090757.jpg\n",
      "鼠胆英雄 08月02日 https://img3.doubanio.com/view/photo/s_ratio_poster/public/p2561270746.jpg\n",
      "最美的地方遇见你 08月02日 https://img3.doubanio.com/view/photo/s_ratio_poster/public/p2564179635.jpg\n",
      "梦想之战：踢球吧阿妹 08月02日 https://img1.doubanio.com/view/photo/s_ratio_poster/public/p2562184389.jpg\n",
      "歌唱动荡的青春 08月02日 https://img3.doubanio.com/view/photo/s_ratio_poster/public/p2556687994.jpg\n",
      "赛尔号大电影7：疯狂机器城 08月02日 https://img3.doubanio.com/view/photo/s_ratio_poster/public/p2562826611.jpg\n",
      "灶神来了 08月02日 https://img3.doubanio.com/view/photo/s_ratio_poster/public/p2562170670.jpg\n",
      "红花绿叶 08月05日 https://img3.doubanio.com/view/photo/s_ratio_poster/public/p2563535973.jpg\n",
      "使徒行者2：谍影行动 08月07日 https://img3.doubanio.com/view/photo/s_ratio_poster/public/p2563751491.jpg\n",
      "若能与你共乘海浪之上 08月07日 https://img3.doubanio.com/view/photo/s_ratio_poster/public/p2563770371.jpg\n",
      "某日某月 08月07日 https://img1.doubanio.com/view/photo/s_ratio_poster/public/p2562901379.jpg\n",
      "丛林历险记 08月08日 https://img3.doubanio.com/view/photo/s_ratio_poster/public/p2503190785.jpg\n",
      "红星照耀中国 08月08日 https://img3.doubanio.com/view/photo/s_ratio_poster/public/p2563448281.jpg\n",
      "上海堡垒 08月09日 https://img1.doubanio.com/view/photo/s_ratio_poster/public/p2564169307.jpg\n",
      "童童的风铃密室 08月09日 https://img3.doubanio.com/view/photo/s_ratio_poster/public/p2562929401.jpg\n",
      "丑娃娃 08月09日 https://img1.doubanio.com/view/photo/s_ratio_poster/public/p2559224598.jpg\n",
      "凌晨两点半2 08月09日 https://img3.doubanio.com/view/photo/s_ratio_poster/public/p2542978731.jpg\n",
      "极度危机 08月09日 https://img1.doubanio.com/view/photo/s_ratio_poster/public/p2560754247.jpg\n",
      "萤火奇兵2：小虫不好惹 08月09日 https://img3.doubanio.com/view/photo/s_ratio_poster/public/p2548555314.jpg\n",
      "寻找兰小草 08月09日 https://img3.doubanio.com/view/photo/s_ratio_poster/public/p2557952832.jpg\n",
      "CPU times: user 799 ms, sys: 50 ms, total: 849 ms\n",
      "Wall time: 11.4 s\n"
     ]
    }
   ],
   "source": [
    "import asyncio\n",
    "import aiohttp\n",
    "import nest_asyncio\n",
    "\n",
    "nest_asyncio.apply()\n",
    "from bs4 import BeautifulSoup\n",
    "\n",
    "async def fetch_content(url):\n",
    "    header={\"User-Agent\": \n",
    "            \"Mozilla/5.0 (Windows NT 6.1; Win64; x64) AppleWebKit/537.36 (KHTML, like Gecko) Chrome/74.0.3729.157 Safari/537.36\"} \n",
    "    async with aiohttp.ClientSession(\n",
    "        headers=header, connector=aiohttp.TCPConnector(ssl=False)\n",
    "    ) as session:\n",
    "        async with session.get(url) as response:\n",
    "            return await response.text()\n",
    "\n",
    "async def main():\n",
    "    url = \"https://movie.douban.com/cinema/later/beijing/\"\n",
    "    init_page = await fetch_content(url)\n",
    "    init_soup = BeautifulSoup(init_page, 'lxml')\n",
    "\n",
    "    movie_names, urls_to_fetch, movie_dates = [], [], []\n",
    "\n",
    "    all_movies = init_soup.find('div', id=\"showing-soon\")\n",
    "    for each_movie in all_movies.find_all('div', class_=\"item\"):\n",
    "        all_a_tag = each_movie.find_all('a')\n",
    "        all_li_tag = each_movie.find_all('li')\n",
    "\n",
    "        movie_names.append(all_a_tag[1].text)\n",
    "        urls_to_fetch.append(all_a_tag[1]['href'])\n",
    "        movie_dates.append(all_li_tag[0].text)\n",
    "\n",
    "    tasks = [fetch_content(url) for url in urls_to_fetch]\n",
    "    pages = await asyncio.gather(*tasks)\n",
    "\n",
    "    for movie_name, movie_date, page in zip(movie_names, movie_dates, pages):\n",
    "        soup_item = BeautifulSoup(page, 'lxml')\n",
    "        img_tag = soup_item.find('img')\n",
    "\n",
    "        print('{} {} {}'.format(movie_name, movie_date, img_tag['src']))\n",
    "\n",
    "        \n",
    "%time asyncio.run(main())\n"
   ]
  },
  {
   "cell_type": "code",
   "execution_count": 1,
   "metadata": {},
   "outputs": [
    {
     "name": "stdout",
     "output_type": "stream",
     "text": [
      "Download 15 sites in 227.352403308 seconds\n"
     ]
    }
   ],
   "source": [
    "import concurrent.futures\n",
    "import requests\n",
    "import threading\n",
    "import time\n",
    "\n",
    "def download_one(url):\n",
    "    resp = requests.get(url)\n",
    "    print('Read {} from {}'.format(len(resp.content), url))\n",
    "\n",
    "\n",
    "def download_all(sites):\n",
    "    with concurrent.futures.ThreadPoolExecutor(max_workers=5) as executor:\n",
    "        executor.map(download_one, sites)\n",
    "\n",
    "def main():\n",
    "    sites = [\n",
    "        'https://en.wikipedia.org/wiki/Portal:Arts',\n",
    "        'https://en.wikipedia.org/wiki/Portal:History',\n",
    "        'https://en.wikipedia.org/wiki/Portal:Society',\n",
    "        'https://en.wikipedia.org/wiki/Portal:Biography',\n",
    "        'https://en.wikipedia.org/wiki/Portal:Mathematics',\n",
    "        'https://en.wikipedia.org/wiki/Portal:Technology',\n",
    "        'https://en.wikipedia.org/wiki/Portal:Geography',\n",
    "        'https://en.wikipedia.org/wiki/Portal:Science',\n",
    "        'https://en.wikipedia.org/wiki/Computer_science',\n",
    "        'https://en.wikipedia.org/wiki/Python_(programming_language)',\n",
    "        'https://en.wikipedia.org/wiki/Java_(programming_language)',\n",
    "        'https://en.wikipedia.org/wiki/PHP',\n",
    "        'https://en.wikipedia.org/wiki/Node.js',\n",
    "        'https://en.wikipedia.org/wiki/The_C_Programming_Language',\n",
    "        'https://en.wikipedia.org/wiki/Go_(programming_language)'\n",
    "    ]\n",
    "    start_time = time.perf_counter()\n",
    "    download_all(sites)\n",
    "    end_time = time.perf_counter()\n",
    "    print('Download {} sites in {} seconds'.format(len(sites), end_time - start_time))\n",
    "\n",
    "if __name__ == '__main__':\n",
    "    main()"
   ]
  },
  {
   "cell_type": "code",
   "execution_count": null,
   "metadata": {},
   "outputs": [],
   "source": []
  }
 ],
 "metadata": {
  "kernelspec": {
   "display_name": "Python 3",
   "language": "python",
   "name": "python3"
  },
  "language_info": {
   "codemirror_mode": {
    "name": "ipython",
    "version": 3
   },
   "file_extension": ".py",
   "mimetype": "text/x-python",
   "name": "python",
   "nbconvert_exporter": "python",
   "pygments_lexer": "ipython3",
   "version": "3.7.3"
  }
 },
 "nbformat": 4,
 "nbformat_minor": 2
}
